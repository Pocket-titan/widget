{
 "cells": [
  {
   "cell_type": "code",
   "execution_count": 1,
   "metadata": {},
   "outputs": [],
   "source": [
    "from pathlib import Path\n",
    "\n",
    "import ipywidgets as widgets\n",
    "from IPython.display import display\n",
    "\n",
    "images = {\n",
    "    \"maps\": {\n",
    "        2017: Path(\"./output/maps/2017.png\"),\n",
    "        2018: Path(\"./output/maps/2018.png\"),\n",
    "        2019: Path(\"./output/maps/2019.png\"),\n",
    "        2020: Path(\"./output/maps/2020.png\"),\n",
    "    },\n",
    "    \"timeseries\": {\n",
    "        2017: Path(\"./output/timeseries/2017.png\"),\n",
    "        2018: Path(\"./output/timeseries/2018.png\"),\n",
    "        2019: Path(\"./output/timeseries/2019.png\"),\n",
    "        2020: Path(\"./output/timeseries/2020.png\"),\n",
    "    },\n",
    "}"
   ]
  },
  {
   "cell_type": "code",
   "execution_count": 2,
   "metadata": {},
   "outputs": [],
   "source": [
    "def show(kind=\"maps\"):\n",
    "    def update_image(year):\n",
    "        image_path = images[kind].get(year)\n",
    "        if image_path and image_path.exists():\n",
    "            image_widget.value = open(image_path, \"rb\").read()\n",
    "        else:\n",
    "            print(\"Image for the selected year not found.\")\n",
    "\n",
    "    year_slider = widgets.IntSlider(value=2017, min=2017, max=2020, step=1, description=\"Year\")\n",
    "    image_widget = widgets.Image()\n",
    "\n",
    "    widgets.interact(update_image, year=year_slider)\n",
    "    display(image_widget)\n",
    "\n",
    "    update_image(2017)"
   ]
  },
  {
   "cell_type": "code",
   "execution_count": 3,
   "metadata": {},
   "outputs": [
    {
     "data": {
      "application/vnd.jupyter.widget-view+json": {
       "model_id": "0ae461b99a3f483084d5d697c2629723",
       "version_major": 2,
       "version_minor": 0
      },
      "text/plain": [
       "interactive(children=(IntSlider(value=2017, description='Year', max=2020, min=2017), Output()), _dom_classes=(…"
      ]
     },
     "metadata": {},
     "output_type": "display_data"
    },
    {
     "data": {
      "application/vnd.jupyter.widget-view+json": {
       "model_id": "5b9b0929e08141d7ae72e284dd79d49c",
       "version_major": 2,
       "version_minor": 0
      },
      "text/plain": [
       "Image(value=b'\\x89PNG\\r\\n\\x1a\\n\\x00\\x00\\x00\\rIHDR\\x00\\x00\\x08\\x12\\x00\\x00\\x06\\xa1\\x08\\x06\\x00\\x00\\x00\\x13\\x83;…"
      ]
     },
     "metadata": {},
     "output_type": "display_data"
    }
   ],
   "source": [
    "show(\"maps\")"
   ]
  },
  {
   "cell_type": "code",
   "execution_count": 4,
   "metadata": {},
   "outputs": [
    {
     "data": {
      "application/vnd.jupyter.widget-view+json": {
       "model_id": "a8b14fe713864e338ef5b39792780a46",
       "version_major": 2,
       "version_minor": 0
      },
      "text/plain": [
       "interactive(children=(IntSlider(value=2017, description='Year', max=2020, min=2017), Output()), _dom_classes=(…"
      ]
     },
     "metadata": {},
     "output_type": "display_data"
    },
    {
     "data": {
      "application/vnd.jupyter.widget-view+json": {
       "model_id": "315beadab57849119e7c3dbd55821b34",
       "version_major": 2,
       "version_minor": 0
      },
      "text/plain": [
       "Image(value=b'\\x89PNG\\r\\n\\x1a\\n\\x00\\x00\\x00\\rIHDR\\x00\\x00\\r\\x07\\x00\\x00\\x0e2\\x08\\x06\\x00\\x00\\x00\\x0bN\\xf7\\x97\\…"
      ]
     },
     "metadata": {},
     "output_type": "display_data"
    }
   ],
   "source": [
    "show(\"timeseries\")"
   ]
  },
  {
   "cell_type": "code",
   "execution_count": null,
   "metadata": {},
   "outputs": [],
   "source": []
  }
 ],
 "metadata": {
  "kernelspec": {
   "display_name": "Python 3",
   "language": "python",
   "name": "python3"
  },
  "language_info": {
   "codemirror_mode": {
    "name": "ipython",
    "version": 3
   },
   "file_extension": ".py",
   "mimetype": "text/x-python",
   "name": "python",
   "nbconvert_exporter": "python",
   "pygments_lexer": "ipython3",
   "version": "3.12.6"
  }
 },
 "nbformat": 4,
 "nbformat_minor": 2
}
